{
 "cells": [
  {
   "cell_type": "markdown",
   "id": "aba5bc43",
   "metadata": {},
   "source": [
    "# Avaliacão Módulo II"
   ]
  },
  {
   "cell_type": "markdown",
   "id": "8276b78c",
   "metadata": {},
   "source": [
    "Faca um programa que:\n",
    "1) Carregue os dados de um csv remoto, ex. csv do github, csv de uma base aberta qualquer ou API.  \n",
    "2) Crie uma api que filtre esses dados e retorne o json dos dados filtrados.  \n",
    "3) A partir dos dados filtrados você deve escolher uma variável quantitativa para agregar com um groupby e criar um csv e um json resposta, ambos devem ser persistidos.  \n",
    "4) A partir dos dados filtrados você deve escolher um gráfico para fazer como por exemplo fizemos as gorgetas dadas por sexo ou dia da semana. Crie uma figura png ou jpeg resposta.  \n",
    "5) Coloque sua resposta em um projeto novo no git e envie por e-mail.  \n",
    "  \n",
    "Entregar até 29/11."
   ]
  },
  {
   "cell_type": "markdown",
   "id": "c2fa3233",
   "metadata": {},
   "source": [
    "## API - Parte I e II"
   ]
  },
  {
   "cell_type": "markdown",
   "id": "7473fa15",
   "metadata": {},
   "source": [
    "\n",
    "#### Parte I - Importação CSV - Dentro da API\n",
    "#### Dados de nascimentos nos EUA de 2000 a 2014\n",
    "url = 'https://raw.githubusercontent.com/rudeboybert/fivethirtyeight/master/data-raw/births/US_births_2000-2014_SSA.csv'\n",
    "df = pd.read_csv(url)\n",
    "\n",
    "#### Parte II - API Filtro - Dentro da API\n",
    "#### Filtrando para apenas os dados de 2000 e mês de dezembro\n",
    "df= df[df.year == 2000 ]\n",
    "df.drop(columns=['year'], inplace = True)\n",
    "df.rename(columns = {'month':'Mês', 'date_of_month':'Dia do mês', 'births':'Nascimentos'}, inplace = True)\n",
    "df\n",
    "\n",
    "##### As partes descritas aqui foram inseridas na API\n"
   ]
  },
  {
   "cell_type": "code",
   "execution_count": 1,
   "id": "77214f6c",
   "metadata": {},
   "outputs": [
    {
     "name": "stdout",
     "output_type": "stream",
     "text": [
      "Writing apipandas.py\n"
     ]
    }
   ],
   "source": [
    "%%writefile apipandas.py\n",
    "#API com Flask\n",
    "from flask import Flask, request\n",
    "from flask_restful import Resource, Api\n",
    "import pandas as pd\n",
    "\n",
    "app = Flask(__name__)\n",
    "api = Api(app)\n",
    "\n",
    "#Pegar uma url e filtrar os dados\n",
    "#Parte I\n",
    "url = 'https://raw.githubusercontent.com/rudeboybert/fivethirtyeight/master/data-raw/births/US_births_2000-2014_SSA.csv'\n",
    "df = pd.read_csv(url)\n",
    "#Parte II\n",
    "df= df[df.year == 2000 ]\n",
    "df.drop(columns=['year','day_of_week'], inplace = True)\n",
    "df.rename(columns = {'month':'Mês', 'date_of_month':'Dia do mês', 'births':'Nascimentos'}, inplace = True)\n",
    "\n",
    "class Dados(Resource):\n",
    "    def get(self):\n",
    "        return df.to_json()\n",
    "    \n",
    "api.add_resource(Dados, '/dados')\n",
    "\n",
    "if __name__ == '__main__':\n",
    "    app.run(debug=True)"
   ]
  },
  {
   "cell_type": "code",
   "execution_count": null,
   "id": "5e6a4936",
   "metadata": {},
   "outputs": [],
   "source": [
    "#cmd\n",
    "#python3 apipandas.py"
   ]
  },
  {
   "cell_type": "markdown",
   "id": "af93dcd0",
   "metadata": {},
   "source": [
    "# Código Pós-API - Partes III, IV e V"
   ]
  },
  {
   "cell_type": "code",
   "execution_count": 2,
   "id": "40d973f2",
   "metadata": {},
   "outputs": [
    {
     "data": {
      "text/html": [
       "<div>\n",
       "<style scoped>\n",
       "    .dataframe tbody tr th:only-of-type {\n",
       "        vertical-align: middle;\n",
       "    }\n",
       "\n",
       "    .dataframe tbody tr th {\n",
       "        vertical-align: top;\n",
       "    }\n",
       "\n",
       "    .dataframe thead th {\n",
       "        text-align: right;\n",
       "    }\n",
       "</style>\n",
       "<table border=\"1\" class=\"dataframe\">\n",
       "  <thead>\n",
       "    <tr style=\"text-align: right;\">\n",
       "      <th></th>\n",
       "      <th>Mês</th>\n",
       "      <th>Dia do mês</th>\n",
       "      <th>Nascimentos</th>\n",
       "    </tr>\n",
       "  </thead>\n",
       "  <tbody>\n",
       "    <tr>\n",
       "      <th>0</th>\n",
       "      <td>1</td>\n",
       "      <td>1</td>\n",
       "      <td>9083</td>\n",
       "    </tr>\n",
       "    <tr>\n",
       "      <th>1</th>\n",
       "      <td>1</td>\n",
       "      <td>2</td>\n",
       "      <td>8006</td>\n",
       "    </tr>\n",
       "    <tr>\n",
       "      <th>2</th>\n",
       "      <td>1</td>\n",
       "      <td>3</td>\n",
       "      <td>11363</td>\n",
       "    </tr>\n",
       "    <tr>\n",
       "      <th>3</th>\n",
       "      <td>1</td>\n",
       "      <td>4</td>\n",
       "      <td>13032</td>\n",
       "    </tr>\n",
       "    <tr>\n",
       "      <th>4</th>\n",
       "      <td>1</td>\n",
       "      <td>5</td>\n",
       "      <td>12558</td>\n",
       "    </tr>\n",
       "    <tr>\n",
       "      <th>...</th>\n",
       "      <td>...</td>\n",
       "      <td>...</td>\n",
       "      <td>...</td>\n",
       "    </tr>\n",
       "    <tr>\n",
       "      <th>361</th>\n",
       "      <td>12</td>\n",
       "      <td>27</td>\n",
       "      <td>13252</td>\n",
       "    </tr>\n",
       "    <tr>\n",
       "      <th>362</th>\n",
       "      <td>12</td>\n",
       "      <td>28</td>\n",
       "      <td>13900</td>\n",
       "    </tr>\n",
       "    <tr>\n",
       "      <th>363</th>\n",
       "      <td>12</td>\n",
       "      <td>29</td>\n",
       "      <td>13607</td>\n",
       "    </tr>\n",
       "    <tr>\n",
       "      <th>364</th>\n",
       "      <td>12</td>\n",
       "      <td>30</td>\n",
       "      <td>9405</td>\n",
       "    </tr>\n",
       "    <tr>\n",
       "      <th>365</th>\n",
       "      <td>12</td>\n",
       "      <td>31</td>\n",
       "      <td>7892</td>\n",
       "    </tr>\n",
       "  </tbody>\n",
       "</table>\n",
       "<p>366 rows × 3 columns</p>\n",
       "</div>"
      ],
      "text/plain": [
       "     Mês  Dia do mês  Nascimentos\n",
       "0      1           1         9083\n",
       "1      1           2         8006\n",
       "2      1           3        11363\n",
       "3      1           4        13032\n",
       "4      1           5        12558\n",
       "..   ...         ...          ...\n",
       "361   12          27        13252\n",
       "362   12          28        13900\n",
       "363   12          29        13607\n",
       "364   12          30         9405\n",
       "365   12          31         7892\n",
       "\n",
       "[366 rows x 3 columns]"
      ]
     },
     "execution_count": 2,
     "metadata": {},
     "output_type": "execute_result"
    }
   ],
   "source": [
    "#Todas as dependências\n",
    "from IPython.display import Image, display\n",
    "import numpy as np\n",
    "import matplotlib.pyplot as plt\n",
    "import pandas as pd\n",
    "import json\n",
    "import seaborn as sns\n",
    "import requests\n",
    "\n",
    "#Requisitar os dados da API\n",
    "response = requests.get('http://127.0.0.1:5000/dados')\n",
    "json_df = response.json()\n",
    "df = pd.read_json(json_df)\n",
    "df"
   ]
  },
  {
   "cell_type": "markdown",
   "id": "951163af",
   "metadata": {},
   "source": [
    "#### Parte III\n"
   ]
  },
  {
   "cell_type": "code",
   "execution_count": 3,
   "id": "b3547b19",
   "metadata": {},
   "outputs": [],
   "source": [
    "#Faz um groupy por mês e retorna o somatório de nascimentos por mês\n",
    "nascimentoMesJson = df.groupby(['Mês'])['Nascimentos'].sum()\n",
    "#Converte em um Json\n",
    "NMJ = nascimentoMesJson.to_json(orient=\"split\")\n",
    "#Persiste o JSON em um arquivo\n",
    "with open('NascimentoMes.json', 'w') as json_file:\n",
    "    json.dump(NMJ, json_file)    "
   ]
  },
  {
   "cell_type": "markdown",
   "id": "e4cce914",
   "metadata": {},
   "source": [
    "#### Parte IV"
   ]
  },
  {
   "cell_type": "code",
   "execution_count": 4,
   "id": "63fc85ce",
   "metadata": {},
   "outputs": [
    {
     "data": {
      "image/png": "[encoded data removed]",
      "text/plain": [
       "<Figure size 864x720 with 2 Axes>"
      ]
     },
     "metadata": {
      "needs_background": "light"
     },
     "output_type": "display_data"
    }
   ],
   "source": [
    "#Criar gráfico e persistir ele. Salvar em JPG\n",
    "#Heatmap\n",
    "plt.figure(figsize=(12,10))\n",
    "sns.set_context('paper',font_scale=2)\n",
    "\n",
    "mapa_calor = df\n",
    "mapa_calor = mapa_calor.pivot(\"Mês\",\"Dia do mês\",\"Nascimentos\")\n",
    "ax = sns.heatmap(mapa_calor, cmap='rocket_r').set(title='Nascimentos por dia no ano 2000')\n",
    "plt.gca().invert_yaxis()\n",
    "plt.savefig('Nascimentos2000.png')\n",
    "\n"
   ]
  },
  {
   "cell_type": "markdown",
   "id": "8a6365ad",
   "metadata": {},
   "source": [
    "#### Parte V\n",
    "https://github.com/Gartarok/PandasAPI"
   ]
  }
 ],
 "metadata": {
  "kernelspec": {
   "display_name": "Python 3",
   "language": "python",
   "name": "python3"
  },
  "language_info": {
   "codemirror_mode": {
    "name": "ipython",
    "version": 3
   },
   "file_extension": ".py",
   "mimetype": "text/x-python",
   "name": "python",
   "nbconvert_exporter": "python",
   "pygments_lexer": "ipython3",
   "version": "3.8.8"
  }
 },
 "nbformat": 4,
 "nbformat_minor": 5
}
